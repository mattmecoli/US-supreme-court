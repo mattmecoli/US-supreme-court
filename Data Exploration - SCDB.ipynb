{
 "cells": [
  {
   "cell_type": "code",
   "execution_count": 20,
   "metadata": {},
   "outputs": [],
   "source": [
    "# Import libraries \n",
    "\n",
    "import pandas as pd\n",
    "import numpy as np\n",
    "import matplotlib.pyplot as plt\n",
    "import seaborn as sns\n",
    "%matplotlib inline\n",
    "\n",
    "# Set styling parameters\n",
    "from matplotlib.pylab import rcParams\n",
    "rcParams['figure.figsize'] = 15, 6\n",
    "plt.style.use('fivethirtyeight')\n",
    "\n"
   ]
  },
  {
   "cell_type": "code",
   "execution_count": 107,
   "metadata": {},
   "outputs": [],
   "source": [
    "# Import ML models \n",
    "\n",
    "from sklearn.ensemble import RandomForestClassifier\n",
    "from sklearn.ensemble import AdaBoostClassifier\n",
    "from sklearn.svm import SVC\n",
    "from sklearn.model_selection import train_test_split, GridSearchCV, StratifiedKFold\n",
    "from sklearn.preprocessing import StandardScaler\n",
    "from sklearn.metrics import accuracy_score\n",
    "\n",
    "import xgboost as xgb"
   ]
  },
  {
   "cell_type": "code",
   "execution_count": 28,
   "metadata": {},
   "outputs": [],
   "source": [
    "og_data = pd.read_csv('SCDB_2018_01_justiceCentered_Citation.csv', encoding = 'ISO-8859-1')"
   ]
  },
  {
   "cell_type": "code",
   "execution_count": 29,
   "metadata": {},
   "outputs": [
    {
     "data": {
      "text/html": [
       "<div>\n",
       "<style scoped>\n",
       "    .dataframe tbody tr th:only-of-type {\n",
       "        vertical-align: middle;\n",
       "    }\n",
       "\n",
       "    .dataframe tbody tr th {\n",
       "        vertical-align: top;\n",
       "    }\n",
       "\n",
       "    .dataframe thead th {\n",
       "        text-align: right;\n",
       "    }\n",
       "</style>\n",
       "<table border=\"1\" class=\"dataframe\">\n",
       "  <thead>\n",
       "    <tr style=\"text-align: right;\">\n",
       "      <th></th>\n",
       "      <th>caseId</th>\n",
       "      <th>docketId</th>\n",
       "      <th>caseIssuesId</th>\n",
       "      <th>voteId</th>\n",
       "      <th>dateDecision</th>\n",
       "      <th>decisionType</th>\n",
       "      <th>usCite</th>\n",
       "      <th>sctCite</th>\n",
       "      <th>ledCite</th>\n",
       "      <th>lexisCite</th>\n",
       "      <th>...</th>\n",
       "      <th>majVotes</th>\n",
       "      <th>minVotes</th>\n",
       "      <th>justice</th>\n",
       "      <th>justiceName</th>\n",
       "      <th>vote</th>\n",
       "      <th>opinion</th>\n",
       "      <th>direction</th>\n",
       "      <th>majority</th>\n",
       "      <th>firstAgreement</th>\n",
       "      <th>secondAgreement</th>\n",
       "    </tr>\n",
       "  </thead>\n",
       "  <tbody>\n",
       "    <tr>\n",
       "      <th>0</th>\n",
       "      <td>1946-001</td>\n",
       "      <td>1946-001-01</td>\n",
       "      <td>1946-001-01-01</td>\n",
       "      <td>1946-001-01-01-01-01</td>\n",
       "      <td>11/18/1946</td>\n",
       "      <td>1</td>\n",
       "      <td>329 U.S. 1</td>\n",
       "      <td>67 S. Ct. 6</td>\n",
       "      <td>91 L. Ed. 3</td>\n",
       "      <td>1946 U.S. LEXIS 1724</td>\n",
       "      <td>...</td>\n",
       "      <td>8</td>\n",
       "      <td>1</td>\n",
       "      <td>86</td>\n",
       "      <td>HHBurton</td>\n",
       "      <td>2.0</td>\n",
       "      <td>1.0</td>\n",
       "      <td>1.0</td>\n",
       "      <td>1.0</td>\n",
       "      <td>NaN</td>\n",
       "      <td>NaN</td>\n",
       "    </tr>\n",
       "    <tr>\n",
       "      <th>1</th>\n",
       "      <td>1946-001</td>\n",
       "      <td>1946-001-01</td>\n",
       "      <td>1946-001-01-01</td>\n",
       "      <td>1946-001-01-01-01-02</td>\n",
       "      <td>11/18/1946</td>\n",
       "      <td>1</td>\n",
       "      <td>329 U.S. 1</td>\n",
       "      <td>67 S. Ct. 6</td>\n",
       "      <td>91 L. Ed. 3</td>\n",
       "      <td>1946 U.S. LEXIS 1724</td>\n",
       "      <td>...</td>\n",
       "      <td>8</td>\n",
       "      <td>1</td>\n",
       "      <td>84</td>\n",
       "      <td>RHJackson</td>\n",
       "      <td>1.0</td>\n",
       "      <td>1.0</td>\n",
       "      <td>2.0</td>\n",
       "      <td>2.0</td>\n",
       "      <td>NaN</td>\n",
       "      <td>NaN</td>\n",
       "    </tr>\n",
       "    <tr>\n",
       "      <th>2</th>\n",
       "      <td>1946-001</td>\n",
       "      <td>1946-001-01</td>\n",
       "      <td>1946-001-01-01</td>\n",
       "      <td>1946-001-01-01-01-03</td>\n",
       "      <td>11/18/1946</td>\n",
       "      <td>1</td>\n",
       "      <td>329 U.S. 1</td>\n",
       "      <td>67 S. Ct. 6</td>\n",
       "      <td>91 L. Ed. 3</td>\n",
       "      <td>1946 U.S. LEXIS 1724</td>\n",
       "      <td>...</td>\n",
       "      <td>8</td>\n",
       "      <td>1</td>\n",
       "      <td>81</td>\n",
       "      <td>WODouglas</td>\n",
       "      <td>1.0</td>\n",
       "      <td>1.0</td>\n",
       "      <td>2.0</td>\n",
       "      <td>2.0</td>\n",
       "      <td>NaN</td>\n",
       "      <td>NaN</td>\n",
       "    </tr>\n",
       "    <tr>\n",
       "      <th>3</th>\n",
       "      <td>1946-001</td>\n",
       "      <td>1946-001-01</td>\n",
       "      <td>1946-001-01-01</td>\n",
       "      <td>1946-001-01-01-01-04</td>\n",
       "      <td>11/18/1946</td>\n",
       "      <td>1</td>\n",
       "      <td>329 U.S. 1</td>\n",
       "      <td>67 S. Ct. 6</td>\n",
       "      <td>91 L. Ed. 3</td>\n",
       "      <td>1946 U.S. LEXIS 1724</td>\n",
       "      <td>...</td>\n",
       "      <td>8</td>\n",
       "      <td>1</td>\n",
       "      <td>80</td>\n",
       "      <td>FFrankfurter</td>\n",
       "      <td>4.0</td>\n",
       "      <td>2.0</td>\n",
       "      <td>2.0</td>\n",
       "      <td>2.0</td>\n",
       "      <td>NaN</td>\n",
       "      <td>NaN</td>\n",
       "    </tr>\n",
       "    <tr>\n",
       "      <th>4</th>\n",
       "      <td>1946-001</td>\n",
       "      <td>1946-001-01</td>\n",
       "      <td>1946-001-01-01</td>\n",
       "      <td>1946-001-01-01-01-05</td>\n",
       "      <td>11/18/1946</td>\n",
       "      <td>1</td>\n",
       "      <td>329 U.S. 1</td>\n",
       "      <td>67 S. Ct. 6</td>\n",
       "      <td>91 L. Ed. 3</td>\n",
       "      <td>1946 U.S. LEXIS 1724</td>\n",
       "      <td>...</td>\n",
       "      <td>8</td>\n",
       "      <td>1</td>\n",
       "      <td>79</td>\n",
       "      <td>SFReed</td>\n",
       "      <td>1.0</td>\n",
       "      <td>1.0</td>\n",
       "      <td>2.0</td>\n",
       "      <td>2.0</td>\n",
       "      <td>NaN</td>\n",
       "      <td>NaN</td>\n",
       "    </tr>\n",
       "  </tbody>\n",
       "</table>\n",
       "<p>5 rows × 61 columns</p>\n",
       "</div>"
      ],
      "text/plain": [
       "     caseId     docketId    caseIssuesId                voteId dateDecision  \\\n",
       "0  1946-001  1946-001-01  1946-001-01-01  1946-001-01-01-01-01   11/18/1946   \n",
       "1  1946-001  1946-001-01  1946-001-01-01  1946-001-01-01-01-02   11/18/1946   \n",
       "2  1946-001  1946-001-01  1946-001-01-01  1946-001-01-01-01-03   11/18/1946   \n",
       "3  1946-001  1946-001-01  1946-001-01-01  1946-001-01-01-01-04   11/18/1946   \n",
       "4  1946-001  1946-001-01  1946-001-01-01  1946-001-01-01-01-05   11/18/1946   \n",
       "\n",
       "   decisionType      usCite      sctCite      ledCite             lexisCite  \\\n",
       "0             1  329 U.S. 1  67 S. Ct. 6  91 L. Ed. 3  1946 U.S. LEXIS 1724   \n",
       "1             1  329 U.S. 1  67 S. Ct. 6  91 L. Ed. 3  1946 U.S. LEXIS 1724   \n",
       "2             1  329 U.S. 1  67 S. Ct. 6  91 L. Ed. 3  1946 U.S. LEXIS 1724   \n",
       "3             1  329 U.S. 1  67 S. Ct. 6  91 L. Ed. 3  1946 U.S. LEXIS 1724   \n",
       "4             1  329 U.S. 1  67 S. Ct. 6  91 L. Ed. 3  1946 U.S. LEXIS 1724   \n",
       "\n",
       "        ...         majVotes  minVotes justice   justiceName vote opinion  \\\n",
       "0       ...                8         1      86      HHBurton  2.0     1.0   \n",
       "1       ...                8         1      84     RHJackson  1.0     1.0   \n",
       "2       ...                8         1      81     WODouglas  1.0     1.0   \n",
       "3       ...                8         1      80  FFrankfurter  4.0     2.0   \n",
       "4       ...                8         1      79        SFReed  1.0     1.0   \n",
       "\n",
       "  direction  majority  firstAgreement  secondAgreement  \n",
       "0       1.0       1.0             NaN              NaN  \n",
       "1       2.0       2.0             NaN              NaN  \n",
       "2       2.0       2.0             NaN              NaN  \n",
       "3       2.0       2.0             NaN              NaN  \n",
       "4       2.0       2.0             NaN              NaN  \n",
       "\n",
       "[5 rows x 61 columns]"
      ]
     },
     "execution_count": 29,
     "metadata": {},
     "output_type": "execute_result"
    }
   ],
   "source": [
    "og_data.head()"
   ]
  },
  {
   "cell_type": "code",
   "execution_count": 30,
   "metadata": {
    "scrolled": true
   },
   "outputs": [
    {
     "data": {
      "text/plain": [
       "Index(['caseId', 'docketId', 'caseIssuesId', 'voteId', 'dateDecision',\n",
       "       'decisionType', 'usCite', 'sctCite', 'ledCite', 'lexisCite', 'term',\n",
       "       'naturalCourt', 'chief', 'docket', 'caseName', 'dateArgument',\n",
       "       'dateRearg', 'petitioner', 'petitionerState', 'respondent',\n",
       "       'respondentState', 'jurisdiction', 'adminAction', 'adminActionState',\n",
       "       'threeJudgeFdc', 'caseOrigin', 'caseOriginState', 'caseSource',\n",
       "       'caseSourceState', 'lcDisagreement', 'certReason', 'lcDisposition',\n",
       "       'lcDispositionDirection', 'declarationUncon', 'caseDisposition',\n",
       "       'caseDispositionUnusual', 'partyWinning', 'precedentAlteration',\n",
       "       'voteUnclear', 'issue', 'issueArea', 'decisionDirection',\n",
       "       'decisionDirectionDissent', 'authorityDecision1', 'authorityDecision2',\n",
       "       'lawType', 'lawSupp', 'lawMinor', 'majOpinWriter', 'majOpinAssigner',\n",
       "       'splitVote', 'majVotes', 'minVotes', 'justice', 'justiceName', 'vote',\n",
       "       'opinion', 'direction', 'majority', 'firstAgreement',\n",
       "       'secondAgreement'],\n",
       "      dtype='object')"
      ]
     },
     "execution_count": 30,
     "metadata": {},
     "output_type": "execute_result"
    }
   ],
   "source": [
    "og_data.columns"
   ]
  },
  {
   "cell_type": "code",
   "execution_count": 31,
   "metadata": {},
   "outputs": [],
   "source": [
    "working_data = og_data.drop(columns = ['docketId', 'caseIssuesId', 'voteId', 'dateDecision',\n",
    "                                        'usCite', 'sctCite', 'ledCite', 'lexisCite', 'chief', \n",
    "                                        'docket', 'caseName', 'petitionerState', 'respondentState', \n",
    "                                        'adminActionState', 'threeJudgeFdc', 'caseOriginState',\n",
    "                                        'caseSourceState', 'certReason', 'declarationUncon', \n",
    "                                        'caseDispositionUnusual', 'partyWinning', 'voteUnclear',\n",
    "                                        'decisionDirectionDissent', 'authorityDecision1', 'authorityDecision2',\n",
    "                                        'lawSupp', 'lawMinor', 'majOpinWriter', 'majOpinAssigner',\n",
    "                                        'splitVote','firstAgreement', 'secondAgreement', \n",
    "                                        'dateArgument', 'dateRearg', 'petitioner', 'respondent', \n",
    "                                        'jurisdiction', 'decisionType', 'term', 'caseOrigin',\n",
    "                                        'caseSource', 'caseDisposition', 'decisionDirection',\n",
    "                                        'majVotes', 'minVotes', 'majority'])"
   ]
  },
  {
   "cell_type": "code",
   "execution_count": 32,
   "metadata": {},
   "outputs": [],
   "source": [
    "# fence_categories = ['lcDisposition', 'majority', 'lawType']\n",
    "# working_data.drop(columns = fence_categories)"
   ]
  },
  {
   "cell_type": "code",
   "execution_count": 33,
   "metadata": {},
   "outputs": [
    {
     "data": {
      "text/plain": [
       "Index(['caseId', 'naturalCourt', 'adminAction', 'lcDisagreement',\n",
       "       'lcDisposition', 'lcDispositionDirection', 'precedentAlteration',\n",
       "       'issue', 'issueArea', 'lawType', 'justice', 'justiceName', 'vote',\n",
       "       'opinion', 'direction'],\n",
       "      dtype='object')"
      ]
     },
     "execution_count": 33,
     "metadata": {},
     "output_type": "execute_result"
    }
   ],
   "source": [
    "working_data.columns"
   ]
  },
  {
   "cell_type": "code",
   "execution_count": 35,
   "metadata": {},
   "outputs": [],
   "source": [
    "# working_data.decisionDirection.value_counts()"
   ]
  },
  {
   "cell_type": "code",
   "execution_count": 36,
   "metadata": {},
   "outputs": [
    {
     "data": {
      "text/plain": [
       "WJBrennan       5327\n",
       "BRWhite         4946\n",
       "WHRehnquist     4535\n",
       "JPStevens       4268\n",
       "WODouglas       4001\n",
       "TMarshall       3881\n",
       "HABlackmun      3771\n",
       "PStewart        3592\n",
       "HLBlack         3302\n",
       "SDOConnor       2914\n",
       "AMKennedy       2879\n",
       "AScalia         2857\n",
       "WEBurger        2809\n",
       "LFPowell        2652\n",
       "JHarlan2        2351\n",
       "CThomas         2330\n",
       "TCClark         2292\n",
       "EWarren         2205\n",
       "RBGinsburg      2092\n",
       "SGBreyer        1994\n",
       "FFrankfurter    1917\n",
       "DHSouter        1753\n",
       "HHBurton        1388\n",
       "SFReed          1151\n",
       "JGRoberts       1023\n",
       "SAAlito          997\n",
       "RHJackson        899\n",
       "FMVinson         812\n",
       "SMinton          717\n",
       "SSotomayor       704\n",
       "CEWhittaker      691\n",
       "EKagan           612\n",
       "AFortas          581\n",
       "AJGoldberg       475\n",
       "WBRutledge       387\n",
       "FMurphy          387\n",
       "NMGorsuch        120\n",
       "Name: justiceName, dtype: int64"
      ]
     },
     "execution_count": 36,
     "metadata": {},
     "output_type": "execute_result"
    }
   ],
   "source": [
    "working_data.justiceName.value_counts()"
   ]
  },
  {
   "cell_type": "code",
   "execution_count": 46,
   "metadata": {},
   "outputs": [
    {
     "data": {
      "text/plain": [
       "caseId                        0\n",
       "naturalCourt                  0\n",
       "adminAction               57631\n",
       "lcDisagreement               81\n",
       "lcDisposition             11209\n",
       "lcDispositionDirection     1866\n",
       "precedentAlteration           9\n",
       "issue                       539\n",
       "issueArea                   539\n",
       "lawType                   11233\n",
       "justice                       0\n",
       "justiceName                   0\n",
       "vote                       1997\n",
       "opinion                    2006\n",
       "direction                  4516\n",
       "dtype: int64"
      ]
     },
     "execution_count": 46,
     "metadata": {},
     "output_type": "execute_result"
    }
   ],
   "source": [
    "working_data.isna().sum()"
   ]
  },
  {
   "cell_type": "markdown",
   "metadata": {},
   "source": [
    "## Modeling \n",
    "\n",
    "### Random Forest "
   ]
  },
  {
   "cell_type": "code",
   "execution_count": null,
   "metadata": {},
   "outputs": [],
   "source": []
  },
  {
   "cell_type": "markdown",
   "metadata": {},
   "source": [
    "Just issue areas (for the sake of dimensionality, to see if there's any true value to keeping all those categories). "
   ]
  },
  {
   "cell_type": "code",
   "execution_count": 125,
   "metadata": {},
   "outputs": [],
   "source": [
    "no_issue_data = working_data.drop(columns = ['issue'])\n",
    "# no_issue_data = working_data"
   ]
  },
  {
   "cell_type": "code",
   "execution_count": 126,
   "metadata": {},
   "outputs": [],
   "source": [
    "Ginsburg_df = no_issue_data[no_issue_data['justiceName'] == 'RBGinsburg']"
   ]
  },
  {
   "cell_type": "code",
   "execution_count": 127,
   "metadata": {},
   "outputs": [],
   "source": [
    "Ginsburg_df = Ginsburg_df.drop(columns = ['caseId', 'justice', 'justiceName'])\n",
    "# df = df[pd.notnull(df['EPS'])]"
   ]
  },
  {
   "cell_type": "code",
   "execution_count": 128,
   "metadata": {},
   "outputs": [],
   "source": [
    "# if Ginsburg_df[Ginsburg_df['adminAction'].notnull()]:\n",
    "#     Ginsburg_df['lcDisposition'] = 4\n",
    "    \n",
    "Ginsburg_df = Ginsburg_df.dropna(subset=['direction', 'vote'])"
   ]
  },
  {
   "cell_type": "code",
   "execution_count": 129,
   "metadata": {},
   "outputs": [
    {
     "data": {
      "text/html": [
       "<div>\n",
       "<style scoped>\n",
       "    .dataframe tbody tr th:only-of-type {\n",
       "        vertical-align: middle;\n",
       "    }\n",
       "\n",
       "    .dataframe tbody tr th {\n",
       "        vertical-align: top;\n",
       "    }\n",
       "\n",
       "    .dataframe thead th {\n",
       "        text-align: right;\n",
       "    }\n",
       "</style>\n",
       "<table border=\"1\" class=\"dataframe\">\n",
       "  <thead>\n",
       "    <tr style=\"text-align: right;\">\n",
       "      <th></th>\n",
       "      <th>naturalCourt</th>\n",
       "      <th>adminAction</th>\n",
       "      <th>lcDisagreement</th>\n",
       "      <th>lcDisposition</th>\n",
       "      <th>lcDispositionDirection</th>\n",
       "      <th>precedentAlteration</th>\n",
       "      <th>issueArea</th>\n",
       "      <th>lawType</th>\n",
       "      <th>vote</th>\n",
       "      <th>opinion</th>\n",
       "      <th>direction</th>\n",
       "    </tr>\n",
       "  </thead>\n",
       "  <tbody>\n",
       "    <tr>\n",
       "      <th>60889</th>\n",
       "      <td>1606</td>\n",
       "      <td>999</td>\n",
       "      <td>0</td>\n",
       "      <td>999</td>\n",
       "      <td>1</td>\n",
       "      <td>0</td>\n",
       "      <td>2</td>\n",
       "      <td>4</td>\n",
       "      <td>1</td>\n",
       "      <td>1</td>\n",
       "      <td>1</td>\n",
       "    </tr>\n",
       "    <tr>\n",
       "      <th>60898</th>\n",
       "      <td>1606</td>\n",
       "      <td>999</td>\n",
       "      <td>0</td>\n",
       "      <td>999</td>\n",
       "      <td>1</td>\n",
       "      <td>0</td>\n",
       "      <td>2</td>\n",
       "      <td>4</td>\n",
       "      <td>1</td>\n",
       "      <td>1</td>\n",
       "      <td>1</td>\n",
       "    </tr>\n",
       "    <tr>\n",
       "      <th>60907</th>\n",
       "      <td>1606</td>\n",
       "      <td>999</td>\n",
       "      <td>0</td>\n",
       "      <td>2</td>\n",
       "      <td>2</td>\n",
       "      <td>0</td>\n",
       "      <td>2</td>\n",
       "      <td>3</td>\n",
       "      <td>1</td>\n",
       "      <td>1</td>\n",
       "      <td>2</td>\n",
       "    </tr>\n",
       "    <tr>\n",
       "      <th>60916</th>\n",
       "      <td>1606</td>\n",
       "      <td>999</td>\n",
       "      <td>0</td>\n",
       "      <td>2</td>\n",
       "      <td>1</td>\n",
       "      <td>0</td>\n",
       "      <td>2</td>\n",
       "      <td>3</td>\n",
       "      <td>3</td>\n",
       "      <td>2</td>\n",
       "      <td>2</td>\n",
       "    </tr>\n",
       "    <tr>\n",
       "      <th>60925</th>\n",
       "      <td>1606</td>\n",
       "      <td>999</td>\n",
       "      <td>0</td>\n",
       "      <td>6</td>\n",
       "      <td>1</td>\n",
       "      <td>0</td>\n",
       "      <td>9</td>\n",
       "      <td>4</td>\n",
       "      <td>1</td>\n",
       "      <td>1</td>\n",
       "      <td>1</td>\n",
       "    </tr>\n",
       "  </tbody>\n",
       "</table>\n",
       "</div>"
      ],
      "text/plain": [
       "       naturalCourt  adminAction  lcDisagreement  lcDisposition  \\\n",
       "60889          1606          999               0            999   \n",
       "60898          1606          999               0            999   \n",
       "60907          1606          999               0              2   \n",
       "60916          1606          999               0              2   \n",
       "60925          1606          999               0              6   \n",
       "\n",
       "       lcDispositionDirection  precedentAlteration  issueArea  lawType  vote  \\\n",
       "60889                       1                    0          2        4     1   \n",
       "60898                       1                    0          2        4     1   \n",
       "60907                       2                    0          2        3     1   \n",
       "60916                       1                    0          2        3     3   \n",
       "60925                       1                    0          9        4     1   \n",
       "\n",
       "       opinion  direction  \n",
       "60889        1          1  \n",
       "60898        1          1  \n",
       "60907        1          2  \n",
       "60916        2          2  \n",
       "60925        1          1  "
      ]
     },
     "execution_count": 129,
     "metadata": {},
     "output_type": "execute_result"
    }
   ],
   "source": [
    "Ginsburg_df = Ginsburg_df.fillna(999).astype(int)\n",
    "Ginsburg_df.head()"
   ]
  },
  {
   "cell_type": "code",
   "execution_count": 130,
   "metadata": {
    "scrolled": true
   },
   "outputs": [
    {
     "data": {
      "text/plain": [
       "naturalCourt              0\n",
       "adminAction               0\n",
       "lcDisagreement            0\n",
       "lcDisposition             0\n",
       "lcDispositionDirection    0\n",
       "precedentAlteration       0\n",
       "issueArea                 0\n",
       "lawType                   0\n",
       "vote                      0\n",
       "opinion                   0\n",
       "direction                 0\n",
       "dtype: int64"
      ]
     },
     "execution_count": 130,
     "metadata": {},
     "output_type": "execute_result"
    }
   ],
   "source": [
    "Ginsburg_df.isna().sum()"
   ]
  },
  {
   "cell_type": "code",
   "execution_count": 131,
   "metadata": {},
   "outputs": [],
   "source": [
    "Ginsburg_target = Ginsburg_df['direction']\n",
    "Ginsburg_df = Ginsburg_df.drop(columns = ['direction'])"
   ]
  },
  {
   "cell_type": "code",
   "execution_count": 132,
   "metadata": {},
   "outputs": [],
   "source": [
    "for i in Ginsburg_df.columns:\n",
    "    Ginsburg_df[i] = Ginsburg_df[i].astype('category')"
   ]
  },
  {
   "cell_type": "code",
   "execution_count": 133,
   "metadata": {},
   "outputs": [],
   "source": [
    "Ginsburg_dumb_data = pd.get_dummies(Ginsburg_df)"
   ]
  },
  {
   "cell_type": "code",
   "execution_count": 134,
   "metadata": {},
   "outputs": [],
   "source": [
    "data_train, data_test, target_train, target_test = train_test_split(Ginsburg_dumb_data, Ginsburg_target)"
   ]
  },
  {
   "cell_type": "code",
   "execution_count": 135,
   "metadata": {
    "scrolled": true
   },
   "outputs": [
    {
     "data": {
      "text/plain": [
       "RandomForestClassifier(bootstrap=True, class_weight=None, criterion='gini',\n",
       "            max_depth=None, max_features='auto', max_leaf_nodes=None,\n",
       "            min_impurity_decrease=0.0, min_impurity_split=None,\n",
       "            min_samples_leaf=1, min_samples_split=2,\n",
       "            min_weight_fraction_leaf=0.0, n_estimators=10, n_jobs=1,\n",
       "            oob_score=False, random_state=None, verbose=0,\n",
       "            warm_start=False)"
      ]
     },
     "execution_count": 135,
     "metadata": {},
     "output_type": "execute_result"
    }
   ],
   "source": [
    "forest = RandomForestClassifier()\n",
    "forest.fit(data_train, target_train)"
   ]
  },
  {
   "cell_type": "code",
   "execution_count": 136,
   "metadata": {},
   "outputs": [
    {
     "name": "stdout",
     "output_type": "stream",
     "text": [
      "On Training, score was 0.9324146981627297\n",
      "On Test, score was 0.6673228346456693\n"
     ]
    }
   ],
   "source": [
    "print(\"On Training, score was {}\".format(forest.score(data_train, target_train)))\n",
    "print(\"On Test, score was {}\".format(forest.score(data_test, target_test)))"
   ]
  },
  {
   "cell_type": "code",
   "execution_count": 137,
   "metadata": {
    "scrolled": true
   },
   "outputs": [
    {
     "data": {
      "text/plain": [
       "(2032, 121)"
      ]
     },
     "execution_count": 137,
     "metadata": {},
     "output_type": "execute_result"
    }
   ],
   "source": [
    "Ginsburg_dumb_data.shape"
   ]
  },
  {
   "cell_type": "code",
   "execution_count": 138,
   "metadata": {},
   "outputs": [
    {
     "name": "stdout",
     "output_type": "stream",
     "text": [
      "Best: 0.703412 using {'n_estimators': 500, 'max_depth': 14}\n",
      "0.695538 (0.035037) with: {'n_estimators': 300, 'max_depth': 10}\n",
      "0.694226 (0.039259) with: {'n_estimators': 500, 'max_depth': 10}\n",
      "0.699475 (0.038142) with: {'n_estimators': 700, 'max_depth': 10}\n",
      "0.700131 (0.040887) with: {'n_estimators': 300, 'max_depth': 12}\n",
      "0.695538 (0.043165) with: {'n_estimators': 500, 'max_depth': 12}\n",
      "0.696194 (0.039666) with: {'n_estimators': 700, 'max_depth': 12}\n",
      "0.698163 (0.032463) with: {'n_estimators': 300, 'max_depth': 14}\n",
      "0.703412 (0.039623) with: {'n_estimators': 500, 'max_depth': 14}\n",
      "0.700131 (0.037303) with: {'n_estimators': 700, 'max_depth': 14}\n",
      "0.697507 (0.033157) with: {'n_estimators': 300, 'max_depth': 16}\n",
      "0.698163 (0.037470) with: {'n_estimators': 500, 'max_depth': 16}\n",
      "0.699475 (0.038109) with: {'n_estimators': 700, 'max_depth': 16}\n"
     ]
    }
   ],
   "source": [
    "# Using GridSearchCV to do hyperparameter tuning, note that this takes a while to run and will tax your system\n",
    "# a bit if you're running this on a laptop. \n",
    "\n",
    "n_estimators = [300, 500, 700]\n",
    "max_depth = [10,12,14,16]\n",
    "\n",
    "param_grid_forest = dict(n_estimators=n_estimators, max_depth=max_depth)\n",
    "\n",
    "\n",
    "kfold = StratifiedKFold(n_splits=10, shuffle=True, random_state=7)\n",
    "\n",
    "grid_search = GridSearchCV(forest, param_grid_forest, scoring=\"accuracy\", n_jobs=-1, cv=kfold)\n",
    "grid_result = grid_search.fit(data_train, target_train)\n",
    "\n",
    "# Interpreting results \n",
    "print(\"Best: %f using %s\" % (grid_result.best_score_, grid_result.best_params_))\n",
    "\n",
    "means = grid_result.cv_results_['mean_test_score']\n",
    "stds = grid_result.cv_results_['std_test_score']\n",
    "params = grid_result.cv_results_['params']\n",
    "\n",
    "for mean, stdev, param in zip(means, stds, params):\n",
    "    print(\"%f (%f) with: %r\" % (mean, stdev, param))"
   ]
  },
  {
   "cell_type": "code",
   "execution_count": null,
   "metadata": {},
   "outputs": [],
   "source": []
  },
  {
   "cell_type": "code",
   "execution_count": 139,
   "metadata": {},
   "outputs": [
    {
     "name": "stdout",
     "output_type": "stream",
     "text": [
      "[0]\tvalidation_0-error:0.309055\n",
      "Will train until validation_0-error hasn't improved in 30 rounds.\n",
      "[1]\tvalidation_0-error:0.301181\n",
      "[2]\tvalidation_0-error:0.309055\n",
      "[3]\tvalidation_0-error:0.301181\n",
      "[4]\tvalidation_0-error:0.301181\n",
      "[5]\tvalidation_0-error:0.299213\n",
      "[6]\tvalidation_0-error:0.301181\n",
      "[7]\tvalidation_0-error:0.301181\n",
      "[8]\tvalidation_0-error:0.301181\n",
      "[9]\tvalidation_0-error:0.299213\n",
      "[10]\tvalidation_0-error:0.299213\n",
      "[11]\tvalidation_0-error:0.299213\n",
      "[12]\tvalidation_0-error:0.299213\n",
      "[13]\tvalidation_0-error:0.301181\n",
      "[14]\tvalidation_0-error:0.299213\n",
      "[15]\tvalidation_0-error:0.299213\n",
      "[16]\tvalidation_0-error:0.299213\n",
      "[17]\tvalidation_0-error:0.28937\n",
      "[18]\tvalidation_0-error:0.285433\n",
      "[19]\tvalidation_0-error:0.285433\n",
      "[20]\tvalidation_0-error:0.285433\n",
      "[21]\tvalidation_0-error:0.295276\n",
      "[22]\tvalidation_0-error:0.283465\n",
      "[23]\tvalidation_0-error:0.281496\n",
      "[24]\tvalidation_0-error:0.281496\n",
      "[25]\tvalidation_0-error:0.301181\n",
      "[26]\tvalidation_0-error:0.299213\n",
      "[27]\tvalidation_0-error:0.299213\n",
      "[28]\tvalidation_0-error:0.281496\n",
      "[29]\tvalidation_0-error:0.281496\n",
      "[30]\tvalidation_0-error:0.283465\n",
      "[31]\tvalidation_0-error:0.279528\n",
      "[32]\tvalidation_0-error:0.279528\n",
      "[33]\tvalidation_0-error:0.291339\n",
      "[34]\tvalidation_0-error:0.291339\n",
      "[35]\tvalidation_0-error:0.28937\n",
      "[36]\tvalidation_0-error:0.291339\n",
      "[37]\tvalidation_0-error:0.291339\n",
      "[38]\tvalidation_0-error:0.295276\n",
      "[39]\tvalidation_0-error:0.295276\n",
      "[40]\tvalidation_0-error:0.295276\n",
      "[41]\tvalidation_0-error:0.295276\n",
      "[42]\tvalidation_0-error:0.295276\n",
      "[43]\tvalidation_0-error:0.297244\n",
      "[44]\tvalidation_0-error:0.297244\n",
      "[45]\tvalidation_0-error:0.297244\n",
      "[46]\tvalidation_0-error:0.297244\n",
      "[47]\tvalidation_0-error:0.297244\n",
      "[48]\tvalidation_0-error:0.297244\n",
      "[49]\tvalidation_0-error:0.293307\n",
      "[50]\tvalidation_0-error:0.291339\n",
      "[51]\tvalidation_0-error:0.291339\n",
      "[52]\tvalidation_0-error:0.291339\n",
      "[53]\tvalidation_0-error:0.291339\n",
      "[54]\tvalidation_0-error:0.291339\n",
      "[55]\tvalidation_0-error:0.293307\n",
      "[56]\tvalidation_0-error:0.291339\n",
      "[57]\tvalidation_0-error:0.291339\n",
      "[58]\tvalidation_0-error:0.293307\n",
      "[59]\tvalidation_0-error:0.295276\n",
      "[60]\tvalidation_0-error:0.295276\n",
      "[61]\tvalidation_0-error:0.291339\n",
      "Stopping. Best iteration:\n",
      "[31]\tvalidation_0-error:0.279528\n",
      "\n"
     ]
    },
    {
     "data": {
      "text/plain": [
       "XGBClassifier(base_score=0.5, booster='gbtree', colsample_bylevel=1,\n",
       "       colsample_bytree=1, gamma=0, learning_rate=0.1, max_delta_step=0,\n",
       "       max_depth=3, min_child_weight=1, missing=None, n_estimators=100,\n",
       "       n_jobs=1, nthread=None, objective='binary:logistic', random_state=0,\n",
       "       reg_alpha=0, reg_lambda=1, scale_pos_weight=1, seed=None,\n",
       "       silent=True, subsample=1)"
      ]
     },
     "execution_count": 139,
     "metadata": {},
     "output_type": "execute_result"
    }
   ],
   "source": [
    "eval_set = [(data_test, target_test)]\n",
    "xgb_model = xgb.XGBClassifier()\n",
    "xgb_model.fit(data_train, target_train, early_stopping_rounds=30, eval_metric=\"error\", eval_set=eval_set, verbose=True)"
   ]
  },
  {
   "cell_type": "code",
   "execution_count": 140,
   "metadata": {},
   "outputs": [
    {
     "name": "stdout",
     "output_type": "stream",
     "text": [
      "On Training, score was 0.7198162729658792\n",
      "On Test, score was 0.7086614173228346\n"
     ]
    }
   ],
   "source": [
    "print(\"On Training, score was {}\".format(xgb_model.score(data_train, target_train)))\n",
    "print(\"On Test, score was {}\".format(xgb_model.score(data_test, target_test)))"
   ]
  },
  {
   "cell_type": "code",
   "execution_count": 144,
   "metadata": {},
   "outputs": [
    {
     "name": "stdout",
     "output_type": "stream",
     "text": [
      "Best: 0.694882 using {'n_estimators': 150, 'learning_rate': 0.01, 'max_depth': 4}\n",
      "0.674541 (0.028003) with: {'n_estimators': 150, 'learning_rate': 0.005, 'max_depth': 2}\n",
      "0.687664 (0.038605) with: {'n_estimators': 150, 'learning_rate': 0.005, 'max_depth': 4}\n",
      "0.680446 (0.035468) with: {'n_estimators': 150, 'learning_rate': 0.005, 'max_depth': 6}\n",
      "0.673885 (0.027641) with: {'n_estimators': 150, 'learning_rate': 0.01, 'max_depth': 2}\n",
      "0.694882 (0.044332) with: {'n_estimators': 150, 'learning_rate': 0.01, 'max_depth': 4}\n",
      "0.690945 (0.036382) with: {'n_estimators': 150, 'learning_rate': 0.01, 'max_depth': 6}\n",
      "0.673885 (0.023236) with: {'n_estimators': 150, 'learning_rate': 0.02, 'max_depth': 2}\n",
      "0.687664 (0.046944) with: {'n_estimators': 150, 'learning_rate': 0.02, 'max_depth': 4}\n",
      "0.690945 (0.030626) with: {'n_estimators': 150, 'learning_rate': 0.02, 'max_depth': 6}\n"
     ]
    }
   ],
   "source": [
    "# Using GridSearchCV to do hyperparameter tuning, note that this takes a while to run and will tax your system\n",
    "# a bit if you're running this on a laptop. \n",
    "\n",
    "learning_rate = [0.005, 0.01, 0.02]\n",
    "n_estimators = [150]\n",
    "max_depth = [2,4,6]\n",
    "\n",
    "param_grid = dict(learning_rate=learning_rate, n_estimators=n_estimators, max_depth=max_depth)\n",
    "\n",
    "\n",
    "kfold = StratifiedKFold(n_splits=10, shuffle=True, random_state=7)\n",
    "\n",
    "grid_search = GridSearchCV(xgb_model, param_grid, scoring=\"accuracy\", n_jobs=-1, cv=kfold)\n",
    "grid_result = grid_search.fit(data_train, target_train)\n",
    "\n",
    "# Interpreting results \n",
    "print(\"Best: %f using %s\" % (grid_result.best_score_, grid_result.best_params_))\n",
    "\n",
    "means = grid_result.cv_results_['mean_test_score']\n",
    "stds = grid_result.cv_results_['std_test_score']\n",
    "params = grid_result.cv_results_['params']\n",
    "\n",
    "for mean, stdev, param in zip(means, stds, params):\n",
    "    print(\"%f (%f) with: %r\" % (mean, stdev, param))"
   ]
  },
  {
   "cell_type": "code",
   "execution_count": null,
   "metadata": {},
   "outputs": [],
   "source": []
  },
  {
   "cell_type": "code",
   "execution_count": null,
   "metadata": {},
   "outputs": [],
   "source": []
  },
  {
   "cell_type": "code",
   "execution_count": null,
   "metadata": {},
   "outputs": [],
   "source": []
  },
  {
   "cell_type": "code",
   "execution_count": null,
   "metadata": {},
   "outputs": [],
   "source": []
  },
  {
   "cell_type": "code",
   "execution_count": null,
   "metadata": {},
   "outputs": [],
   "source": []
  },
  {
   "cell_type": "code",
   "execution_count": 44,
   "metadata": {},
   "outputs": [
    {
     "data": {
      "text/plain": [
       "naturalCourt                 0\n",
       "adminAction               2230\n",
       "lcDisagreement               4\n",
       "lcDisposition              186\n",
       "lcDispositionDirection      45\n",
       "precedentAlteration          1\n",
       "issueArea                   10\n",
       "lawType                    268\n",
       "vote                        13\n",
       "opinion                     14\n",
       "direction                   84\n",
       "dtype: int64"
      ]
     },
     "execution_count": 44,
     "metadata": {},
     "output_type": "execute_result"
    }
   ],
   "source": [
    "Scalia_df = no_issue_data[no_issue_data['justiceName'] == 'AScalia']\n",
    "Scalia_df = Scalia_df.drop(columns = ['caseId','justice', 'justiceName'])\n",
    "Scalia_df.isna().sum()"
   ]
  },
  {
   "cell_type": "code",
   "execution_count": 45,
   "metadata": {},
   "outputs": [
    {
     "data": {
      "text/plain": [
       "(2857, 11)"
      ]
     },
     "execution_count": 45,
     "metadata": {},
     "output_type": "execute_result"
    }
   ],
   "source": [
    "Scalia_df.shape"
   ]
  },
  {
   "cell_type": "code",
   "execution_count": null,
   "metadata": {},
   "outputs": [],
   "source": []
  }
 ],
 "metadata": {
  "kernelspec": {
   "display_name": "Python 3",
   "language": "python",
   "name": "python3"
  },
  "language_info": {
   "codemirror_mode": {
    "name": "ipython",
    "version": 3
   },
   "file_extension": ".py",
   "mimetype": "text/x-python",
   "name": "python",
   "nbconvert_exporter": "python",
   "pygments_lexer": "ipython3",
   "version": "3.5.5"
  }
 },
 "nbformat": 4,
 "nbformat_minor": 2
}
